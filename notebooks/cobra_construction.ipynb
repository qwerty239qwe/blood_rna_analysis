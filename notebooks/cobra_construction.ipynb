{
 "cells": [
  {
   "cell_type": "code",
   "execution_count": 15,
   "metadata": {},
   "outputs": [
    {
     "name": "stdout",
     "output_type": "stream",
     "text": [
      "The autoreload extension is already loaded. To reload it, use:\n",
      "  %reload_ext autoreload\n"
     ]
    }
   ],
   "source": [
    "import sys\n",
    "sys.path.append('C:\\\\Users\\\\user\\\\PycharmProjects\\\\pipeGEM')\n",
    "\n",
    "from pathlib import Path\n",
    "import cobra\n",
    "import pandas as pd\n",
    "import numpy as np\n",
    "import pipeGEM as pg\n",
    "from pipeGEM.utils import load_model, save_model, get_subsystems\n",
    "from pipeGEM.pipeline.algo import SwiftCore, SwiftCC, rFastCormics, FastCC\n",
    "from pipeGEM.pipeline.threshold import BimodalThreshold\n",
    "\n",
    "\n",
    "%load_ext autoreload\n",
    "%autoreload 2"
   ]
  },
  {
   "cell_type": "code",
   "execution_count": null,
   "metadata": {},
   "outputs": [],
   "source": [
    "model_path = \"../models/2022Feb/\""
   ]
  },
  {
   "cell_type": "code",
   "execution_count": 3,
   "metadata": {},
   "outputs": [],
   "source": [
    "mg_TPMs = pd.read_csv(\"../data/mg_TPMs.tsv\", sep='\\t')\n",
    "\n",
    "mg_TPMs[\"gene\"] = mg_TPMs[\"gene\"].apply(lambda x: x[:x.index(\".\")] if \".\" in x else x)\n",
    "mg_TPMs = mg_TPMs.groupby(\"gene\").sum()"
   ]
  },
  {
   "cell_type": "code",
   "execution_count": 24,
   "metadata": {},
   "outputs": [
    {
     "name": "stdout",
     "output_type": "stream",
     "text": [
      "Academic license - for non-commercial use only\n"
     ]
    }
   ],
   "source": [
    "human = load_model(\"../models/Human-GEM.mat\")\n",
    "# human = load_model(\"../models/chuman.mat\")\n",
    "for r in human.reactions:\n",
    "    r.subsystem = r.subsystem[r.subsystem.index(\"(['\")+3: r.subsystem.index(\"']\")]"
   ]
  },
  {
   "cell_type": "code",
   "execution_count": 21,
   "metadata": {},
   "outputs": [],
   "source": [
    "dmem_medium_path = Path(\"../data/ac16_fluxes.csv\")\n",
    "dmem_medium = pd.read_csv(dmem_medium_path, index_col=0)\n",
    "rxn_map = {}\n",
    "ex_rxns = [r.id for r in human.exchanges]\n",
    "for m in human.metabolites:\n",
    "    if not any([(met+ \"s\")== (m.id) for met in dmem_medium[\"human_gem\"] if pd.notna(met)]) :\n",
    "        continue\n",
    "    for r in m.reactions:\n",
    "        if r.id in ex_rxns:\n",
    "            rxn_map[m.id[:-1]] = r.id\n",
    "dmem_medium[\"human_gem_rxn\"] = dmem_medium[\"human_gem\"].map(rxn_map)"
   ]
  },
  {
   "cell_type": "code",
   "execution_count": 29,
   "metadata": {},
   "outputs": [],
   "source": [
    "inorg_met_ids = ['MAM02200','MAM02609', 'MAM02949','MAM02946',\n",
    "                 'MAM01821','MAM01822', 'MAM01442','MAM01413',\n",
    "                 'MAM03157','MAM02751', 'MAM02147','MAM02040',\n",
    "                 'MAM02588','MAM02630', 'MAM02759','MAM02579',\n",
    "                 'MAM03157','MAM01596', 'MAM02959','MAM02519', 'MAM02046']\n",
    "rxn_map = {}\n",
    "ex_rxns = [r.id for r in human.exchanges]\n",
    "inorg_rxns = []\n",
    "for m in human.metabolites:\n",
    "    if not any([(met+ \"s\")== (m.id) for met in inorg_met_ids if pd.notna(met)]) :\n",
    "        continue\n",
    "    for r in m.reactions:\n",
    "        if r.id in ex_rxns:\n",
    "            rxn_map[m.id[:-1]] = r.id\n",
    "            inorg_rxns.append(r.id)"
   ]
  },
  {
   "cell_type": "code",
   "execution_count": 32,
   "metadata": {},
   "outputs": [],
   "source": [
    "for r in human.exchanges:\n",
    "    if r.id in inorg_rxns:\n",
    "        r.lower_bound = -100\n",
    "    elif r.id in dmem_medium[\"human_gem_rxn\"]:\n",
    "        r.lower_bound = -10\n",
    "    else:\n",
    "        r.lower_bound = -0.01"
   ]
  },
  {
   "cell_type": "code",
   "execution_count": 44,
   "metadata": {},
   "outputs": [
    {
     "name": "stdout",
     "output_type": "stream",
     "text": [
      "Read LP format model from file C:\\Users\\user\\AppData\\Local\\Temp\\tmpexvzc2ea.lp\n",
      "Reading time = 0.06 seconds\n",
      ": 7126 rows, 23768 columns, 99148 nonzeros\n"
     ]
    }
   ],
   "source": [
    "c = FastCC()\n",
    "c(human, tol=1e-4, is_convex=False)\n",
    "\n",
    "c_model = c.output[\"model\"].copy()\n",
    "save_model(c_model, \"../models/c_human\", \".json\")"
   ]
  },
  {
   "cell_type": "code",
   "execution_count": 42,
   "metadata": {},
   "outputs": [],
   "source": [
    "rfc = rFastCormics(consist_method = None,\n",
    "                   task_file_path = \"../data/general_task_human_gem_s.json\",\n",
    "                   task_constr_name = \"None\",\n",
    "                   model_compartment_format = \"{}\",\n",
    "                   solver=\"gurobi\",\n",
    "                   cc_threshold=1e-4,\n",
    "                   core_threshold=1e-4,\n",
    "                   use_first_guess=False)\n",
    "\n",
    "\n",
    "output = rfc(c_model,\n",
    "             mg_TPMs,\n",
    "             protected_rxns=[\"MAR13082\"],\n",
    "             not_penalized_subsystem=r\"Transport reactions\")\n",
    "\n",
    "for k, v in output['final_model_dic'].items():\n",
    "    save_model(v, model_path + k, \".json\")"
   ]
  },
  {
   "cell_type": "code",
   "execution_count": null,
   "metadata": {},
   "outputs": [],
   "source": []
  }
 ],
 "metadata": {
  "kernelspec": {
   "display_name": "Python 3.7.3 64-bit ('CBM': conda)",
   "language": "python",
   "name": "python37364bitcbmconda504cb86c464b47279c9f8d55660e0628"
  },
  "language_info": {
   "codemirror_mode": {
    "name": "ipython",
    "version": 3
   },
   "file_extension": ".py",
   "mimetype": "text/x-python",
   "name": "python",
   "nbconvert_exporter": "python",
   "pygments_lexer": "ipython3",
   "version": "3.7.3"
  }
 },
 "nbformat": 4,
 "nbformat_minor": 4
}
