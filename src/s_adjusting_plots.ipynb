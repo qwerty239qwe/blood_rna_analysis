{
 "cells": [
  {
   "cell_type": "code",
   "execution_count": null,
   "metadata": {},
   "outputs": [],
   "source": [
    "import pandas as pd\n",
    "import seaborn as sns\n",
    "import numpy as np\n",
    "import matplotlib.pyplot as plt\n",
    "\n",
    "from pathlib import Path"
   ]
  },
  {
   "cell_type": "code",
   "execution_count": null,
   "metadata": {},
   "outputs": [],
   "source": [
    "fn_formats = [\"./GSEA/go/tables/table_{0}_BP.tsv\",\n",
    "              \"./GSEA/go/tables/table_{0}_CC.tsv\",\n",
    "              \"./GSEA/go/tables/table_{0}_MF.tsv\",\n",
    "              \"./GSEA/kegg/tables/table_{0}.tsv\",\n",
    "              \"./GSEA/reactome/tables/table_{0}.tsv\",]\n",
    "immune = [\"immu\", \"interferon\", \"leukocyte\", \"lymphocyte\"]\n",
    "dna = [\"chromo\", \"chroma\", \"dna\", \"double strand\", \"recombination\"]\n",
    "metabolism = [\"cataboli\", \"metabol\", \"fatty\", \"oxidat\", \"respirat\"]\n",
    "apop = [\"apopt\", \"p53\", \"pi3k\", \"death\", \"autopha\", \"tnf\"]\n",
    "inflam = [\"inflam\", \"nf-kappa\", \"il-17\", \"il-10\"]\n",
    "mito = [\"mitochondri\"]\n",
    "\n",
    "def get_gsea_sig_df(input_formats, \n",
    "                    comp, \n",
    "                    sel_by=[\"2_1\",\"4_1\",\"4_2\", \"5_2\"],\n",
    "                    keywords=metabolism):\n",
    "    all_sig = set()\n",
    "    df_dic = {}\n",
    "    for c in comp:\n",
    "        df = pd.concat([pd.read_csv(inp.format(c), sep='\\t') for inp in input_formats], axis=0)\n",
    "        if c in sel_by:\n",
    "            all_sig |= set(df.query(\"qvalues < 0.2\")[\"ID\"])\n",
    "        df_dic[c] = df\n",
    "    for c in comp:\n",
    "        df_dic[c] = df_dic[c][df_dic[c][\"ID\"].isin(all_sig)]\n",
    "        df_dic[c][\"comparison\"] = c\n",
    "    data = pd.concat(list(df_dic.values()), axis=0)\n",
    "    data = data[data[\"Description\"].str.lower().str.contains(\"|\".join(keywords))]\n",
    "    data = data[data[\"Description\"].apply(lambda x: len(x)) < 50]\n",
    "    split = [0.001, 0.01, 0.05, 0.1, 0.2]\n",
    "    data[\"significant\"] = data[\"qvalues\"].apply(lambda x: x <= 0.2)\n",
    "    data[\"FDR\"] = data[\"qvalues\"].apply(lambda x: f\"< {split[-sum([x <= s for s in split])]}\"\n",
    "                                        if sum([x <= s for s in split]) else \"> 0.2\")\n",
    "    return data\n",
    "\n",
    "def get_bubble_plot(data, \n",
    "                    ax):\n",
    "    split = [0.001, 0.01, 0.05, 0.1, 0.2]\n",
    "    \n",
    "    if not any(data[\"NES\"] > 0):\n",
    "        palette_name = \"light:b\"\n",
    "    elif not any(data[\"NES\"] < 0):\n",
    "        palette_name = \"light:r\"\n",
    "    else:\n",
    "        palette_name = \"coolwarm\"\n",
    "    \n",
    "    sns.scatterplot(data=data, x=\"comparison\", y=\"Description\", size=\"FDR\", hue=\"NES\",\n",
    "                style=\"significant\", \n",
    "                size_order=[f\"< {s}\" for s in split] + [\"> 0.2\"],\n",
    "                markers={True: \"o\", False: \"X\"},\n",
    "                ax=ax, \n",
    "                palette=sns.color_palette(palette_name, as_cmap=True).reversed() if palette_name != \"coolwarm\" else sns.color_palette(palette_name, as_cmap=True), \n",
    "                sizes=(40, 300))\n",
    "    \n",
    "    "
   ]
  }
 ],
 "metadata": {
  "kernelspec": {
   "display_name": "Python 3.7.3 64-bit ('CBM': conda)",
   "language": "python",
   "name": "python37364bitcbmconda504cb86c464b47279c9f8d55660e0628"
  },
  "language_info": {
   "name": ""
  }
 },
 "nbformat": 4,
 "nbformat_minor": 4
}
