{
 "cells": [
  {
   "cell_type": "code",
   "execution_count": 1,
   "metadata": {},
   "outputs": [],
   "source": [
    "import pandas as pd\n",
    "from pathlib import Path\n",
    "\n",
    "from data_processing.merge_data import *\n",
    "\n",
    "%load_ext autoreload\n",
    "%autoreload 2"
   ]
  },
  {
   "cell_type": "code",
   "execution_count": 2,
   "metadata": {},
   "outputs": [],
   "source": [
    "counts = merge_data(path_to_data = \"../data/htseq_counts_2/\", \n",
    "           saved_path=\"../data/mg_counts_2203.tsv\", is_counts=True)"
   ]
  },
  {
   "cell_type": "code",
   "execution_count": 3,
   "metadata": {},
   "outputs": [],
   "source": [
    "tpms = merge_data(path_to_data = \"../data/TPM_2/\", \n",
    "           saved_path=\"../data/mg_tpm_2203.tsv\", is_counts=False)"
   ]
  },
  {
   "cell_type": "code",
   "execution_count": 4,
   "metadata": {},
   "outputs": [
    {
     "name": "stderr",
     "output_type": "stream",
     "text": [
      "C:\\Users\\user\\Anaconda3\\envs\\CBM\\lib\\site-packages\\scipy\\stats\\stats.py:402: RuntimeWarning: divide by zero encountered in log\n",
      "  log_a = np.log(np.array(a, dtype=dtype))\n"
     ]
    }
   ],
   "source": [
    "rle = cal_rle(counts)"
   ]
  },
  {
   "cell_type": "code",
   "execution_count": 6,
   "metadata": {},
   "outputs": [],
   "source": [
    "rle.to_csv(\"../data/mg_RLE.tsv\", sep='\\t')"
   ]
  },
  {
   "cell_type": "code",
   "execution_count": 8,
   "metadata": {},
   "outputs": [],
   "source": [
    "label = pd.read_excel(\"../data/all_info/labels.xlsx\", sheet_name=\"2022march\")\n",
    "\n",
    "label.loc[(label[\"group\"] == 4) & (label[\"subgroup\"] == \"met\"), \"group\"] = 5\n",
    "label.to_csv(\"../data/all_info/labels.csv\", sep='\\t', index=False)"
   ]
  }
 ],
 "metadata": {
  "kernelspec": {
   "display_name": "Python 3.7.3 64-bit ('CBM': conda)",
   "language": "python",
   "name": "python37364bitcbmconda504cb86c464b47279c9f8d55660e0628"
  },
  "language_info": {
   "codemirror_mode": {
    "name": "ipython",
    "version": 3
   },
   "file_extension": ".py",
   "mimetype": "text/x-python",
   "name": "python",
   "nbconvert_exporter": "python",
   "pygments_lexer": "ipython3",
   "version": "3.7.3"
  }
 },
 "nbformat": 4,
 "nbformat_minor": 4
}
