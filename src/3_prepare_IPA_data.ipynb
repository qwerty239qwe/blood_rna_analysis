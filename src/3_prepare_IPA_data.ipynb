{
 "cells": [
  {
   "cell_type": "code",
   "execution_count": null,
   "metadata": {},
   "outputs": [],
   "source": [
    "import pandas as pd"
   ]
  },
  {
   "cell_type": "code",
   "execution_count": null,
   "metadata": {},
   "outputs": [],
   "source": [
    "dfs = []\n",
    "\n",
    "for fname, gname in zip([\"2_1\", \"4_1\", \"5_1\", \"4_2\", \"5_2\", \"5_4\"], [\"G2_G1\", \"G4_G1\", \"G5_G1\", \"G4_G2\", \"G5_G2\", \"G5_G4\"]):\n",
    "    df = pd.read_csv(f\"../results/2022March/DEG/tables/DE_{fname}.tsv\", sep='\\t').rename(columns={\"baseMean\": f\"{gname}_baseMean\", \n",
    "                                                                                                \"log2FoldChange\": f\"{gname}_log2FoldChange\"})[[f\"{gname}_baseMean\", f\"{gname}_log2FoldChange\"]]\n",
    "    dfs.append(df)\n",
    "    \n",
    "pd.concat(dfs, axis=1).fillna(0).to_csv(\"../data/data_for_IPA_2022March.tsv\", sep='\\t')"
   ]
  }
 ],
 "metadata": {
  "kernelspec": {
   "display_name": "Python 3.7.3 64-bit ('CBM': conda)",
   "language": "python",
   "name": "python37364bitcbmconda504cb86c464b47279c9f8d55660e0628"
  },
  "language_info": {
   "codemirror_mode": {
    "name": "ipython",
    "version": 3
   },
   "file_extension": ".py",
   "mimetype": "text/x-python",
   "name": "python",
   "nbconvert_exporter": "python",
   "pygments_lexer": "ipython3",
   "version": "3.7.3"
  }
 },
 "nbformat": 4,
 "nbformat_minor": 4
}
