{
 "cells": [
  {
   "cell_type": "code",
   "execution_count": 1,
   "metadata": {},
   "outputs": [],
   "source": [
    "import pandas as pd\n",
    "import numpy as np\n",
    "import seaborn as sns\n",
    "import matplotlib.pyplot as plt\n",
    "from pathlib import Path\n",
    "import sys\n",
    "sys.path.append('C:\\\\Users\\\\user\\\\PycharmProjects\\\\cobrave')\n",
    "from cobrave.plotting import plot_clustermap\n",
    "import cobrave\n",
    "from cobrave.plotting import plot_embedding, plot_PCA\n",
    "\n",
    "from sklearn.decomposition import PCA\n",
    "from sklearn.preprocessing import StandardScaler\n",
    "from sklearn.linear_model import LogisticRegression, LassoLars\n",
    "from sklearn.manifold import TSNE, Isomap, MDS, SpectralEmbedding, LocallyLinearEmbedding\n",
    "import umap\n",
    "\n",
    "from sklearn.tree import DecisionTreeClassifier\n",
    "from sklearn.model_selection import train_test_split, cross_val_score, GridSearchCV\n",
    "from sklearn.naive_bayes import BernoulliNB\n",
    "from sklearn.neighbors import NearestCentroid\n",
    "from sklearn.pipeline import make_pipeline\n",
    "from sklearn.neural_network import MLPClassifier\n",
    "from sklearn.svm import SVC\n",
    "\n",
    "from sklearn.feature_selection import SelectKBest, f_classif, VarianceThreshold, mutual_info_classif\n",
    "from sklearn.ensemble import GradientBoostingClassifier, RandomForestClassifier, AdaBoostClassifier\n",
    "\n",
    "import lightgbm as lgb\n",
    "\n",
    "from sklearn.experimental import enable_halving_search_cv\n",
    "from sklearn.model_selection import HalvingGridSearchCV"
   ]
  },
  {
   "cell_type": "code",
   "execution_count": 3,
   "metadata": {},
   "outputs": [],
   "source": [
    "def transform_func(x):\n",
    "    return np.log2(x + 1)\n",
    "\n",
    "def training(X, y, clf_type=LogisticRegression, cv=5, **kwargs):\n",
    "    clf = make_pipeline(\n",
    "        #StandardScaler(), VarianceThreshold(), \n",
    "        #SelectKBest(f_classif, k=3000), \n",
    "        #SelectKBest(mutual_info_classif, k=3000), \n",
    "                        clf_type(**kwargs))\n",
    "\n",
    "    scores = cross_val_score(clf, X, y, cv=cv, verbose=1)\n",
    "        \n",
    "    sns.histplot(scores)\n",
    "    print(sum(scores) / len(scores))\n",
    "    return scores\n",
    "\n",
    "\n",
    "def GS_training(X, y, parameters, clf_type=LogisticRegression, cv=5, **kwargs):\n",
    "    clf = GridSearchCV(clf_type(**kwargs), parameters, cv=cv, verbose=2, scoring='f1_micro')\n",
    "    result = clf.fit(X, y)\n",
    "    return result"
   ]
  },
  {
   "cell_type": "code",
   "execution_count": 46,
   "metadata": {},
   "outputs": [],
   "source": [
    "fpath = Path(\"../results/2022March/ML/data/RLE.tsv\")\n",
    "fpath_2 = Path(\"../results/2022March/ML/data/rxn_score.tsv\")\n",
    "# fpath_3 = Path(\"../results/2022March/ML/data/task_score.tsv\")\n",
    "fpath_4 = Path(\"../results/2022March/ML/data/pfba.csv\")\n",
    "outliers = [] # [\"R031A\",\"R040A\",\"R050A\", \"R046A\", \"R054A\", \"R053A\"]"
   ]
  },
  {
   "cell_type": "code",
   "execution_count": 47,
   "metadata": {},
   "outputs": [],
   "source": [
    "df = transform_func(pd.read_csv(fpath, sep='\\t', index_col=0))\n",
    "df2 = pd.read_csv(fpath_2, sep='\\t', index_col=0)\n",
    "df3 = pd.read_csv(fpath_3, sep='\\t', index_col=0)\n",
    "df4 = pd.read_csv(fpath_4, index_col=0)"
   ]
  },
  {
   "cell_type": "code",
   "execution_count": 104,
   "metadata": {},
   "outputs": [],
   "source": [
    "df2.index = df2.index.to_series().apply(lambda x: \"rs_\" + x)"
   ]
  },
  {
   "cell_type": "code",
   "execution_count": 106,
   "metadata": {},
   "outputs": [],
   "source": [
    "df4.index = df4.index.to_series().apply(lambda x: \"fx_\" + x)"
   ]
  },
  {
   "cell_type": "markdown",
   "metadata": {},
   "source": [
    "## concat data"
   ]
  },
  {
   "cell_type": "code",
   "execution_count": 107,
   "metadata": {},
   "outputs": [],
   "source": [
    "mg_df = pd.concat([df, df2,df3, df4], axis=0)\n",
    "mg_df = mg_df.loc[:, [c for c in mg_df.columns if c not in outliers]]"
   ]
  },
  {
   "cell_type": "code",
   "execution_count": 8,
   "metadata": {},
   "outputs": [],
   "source": [
    "labels = pd.read_excel(\"../data/all_info/labels.xlsx\", sheet_name=\"20220203\")\n",
    "gb = labels.groupby(\"group\")[\"sample\"].apply(lambda x: list(x))\n",
    "groups = {f\"G{i+1}\": [g + \"A\" for g in gs] for i, gs in enumerate(gb)}\n",
    "groups[\"G3\"].append(\"R016A.1\")\n",
    "groups = {k: [vi for vi in v if vi not in outliers] for k, v in groups.items()}"
   ]
  },
  {
   "cell_type": "code",
   "execution_count": 108,
   "metadata": {},
   "outputs": [],
   "source": [
    "tv_df, test_df = mg_df.loc[:, groups[\"G1\"]+groups[\"G2\"]+groups[\"G4\"]], mg_df.loc[:, groups[\"G3\"]]"
   ]
  },
  {
   "cell_type": "markdown",
   "metadata": {},
   "source": [
    "## make features + labels for training"
   ]
  },
  {
   "cell_type": "code",
   "execution_count": 11,
   "metadata": {},
   "outputs": [],
   "source": [
    "y = []\n",
    "for c in tv_df.columns:\n",
    "    g = \"G1\" if c in groups[\"G1\"] else \"G2\" if c in groups[\"G2\"] else \"G4\" if c in groups[\"G4\"] else \"\"\n",
    "    assert g != \"\"\n",
    "    y.append(g)"
   ]
  },
  {
   "cell_type": "code",
   "execution_count": 109,
   "metadata": {},
   "outputs": [],
   "source": [
    "X, y = tv_df.values.T, np.array(y)"
   ]
  },
  {
   "cell_type": "code",
   "execution_count": 110,
   "metadata": {},
   "outputs": [],
   "source": [
    "clf = make_pipeline(StandardScaler(), VarianceThreshold(), \n",
    "                    SelectKBest(f_classif, k=4000)\n",
    "                   )\n",
    "\n",
    "nX = clf.fit_transform(X, y)"
   ]
  },
  {
   "cell_type": "code",
   "execution_count": 226,
   "metadata": {},
   "outputs": [
    {
     "data": {
      "text/html": [
       "<div>\n",
       "<style scoped>\n",
       "    .dataframe tbody tr th:only-of-type {\n",
       "        vertical-align: middle;\n",
       "    }\n",
       "\n",
       "    .dataframe tbody tr th {\n",
       "        vertical-align: top;\n",
       "    }\n",
       "\n",
       "    .dataframe thead th {\n",
       "        text-align: right;\n",
       "    }\n",
       "</style>\n",
       "<table border=\"1\" class=\"dataframe\">\n",
       "  <thead>\n",
       "    <tr style=\"text-align: right;\">\n",
       "      <th></th>\n",
       "      <th>R004A</th>\n",
       "      <th>R006A</th>\n",
       "      <th>R016A</th>\n",
       "      <th>R027A</th>\n",
       "      <th>R029A</th>\n",
       "      <th>R030A</th>\n",
       "      <th>R045A</th>\n",
       "      <th>R016A.1</th>\n",
       "    </tr>\n",
       "  </thead>\n",
       "  <tbody>\n",
       "    <tr>\n",
       "      <th>ENSG00000000003.13</th>\n",
       "      <td>3.123990</td>\n",
       "      <td>3.226544</td>\n",
       "      <td>1.436905</td>\n",
       "      <td>3.114609</td>\n",
       "      <td>4.138414</td>\n",
       "      <td>1.434475</td>\n",
       "      <td>0.000000</td>\n",
       "      <td>3.074362</td>\n",
       "    </tr>\n",
       "    <tr>\n",
       "      <th>ENSG00000000419.11</th>\n",
       "      <td>8.073325</td>\n",
       "      <td>8.130476</td>\n",
       "      <td>8.479747</td>\n",
       "      <td>8.947290</td>\n",
       "      <td>8.555821</td>\n",
       "      <td>8.788016</td>\n",
       "      <td>7.534856</td>\n",
       "      <td>8.887550</td>\n",
       "    </tr>\n",
       "    <tr>\n",
       "      <th>ENSG00000000938.11</th>\n",
       "      <td>13.057616</td>\n",
       "      <td>11.606263</td>\n",
       "      <td>12.910896</td>\n",
       "      <td>12.322467</td>\n",
       "      <td>11.013366</td>\n",
       "      <td>13.114201</td>\n",
       "      <td>12.902943</td>\n",
       "      <td>12.592707</td>\n",
       "    </tr>\n",
       "    <tr>\n",
       "      <th>ENSG00000001036.12</th>\n",
       "      <td>8.288574</td>\n",
       "      <td>7.659660</td>\n",
       "      <td>8.349873</td>\n",
       "      <td>8.144359</td>\n",
       "      <td>7.761181</td>\n",
       "      <td>9.229777</td>\n",
       "      <td>7.979430</td>\n",
       "      <td>8.206781</td>\n",
       "    </tr>\n",
       "    <tr>\n",
       "      <th>ENSG00000001084.9</th>\n",
       "      <td>10.294006</td>\n",
       "      <td>11.110773</td>\n",
       "      <td>10.832609</td>\n",
       "      <td>9.986709</td>\n",
       "      <td>9.935547</td>\n",
       "      <td>11.783068</td>\n",
       "      <td>11.633827</td>\n",
       "      <td>11.006478</td>\n",
       "    </tr>\n",
       "    <tr>\n",
       "      <th>...</th>\n",
       "      <td>...</td>\n",
       "      <td>...</td>\n",
       "      <td>...</td>\n",
       "      <td>...</td>\n",
       "      <td>...</td>\n",
       "      <td>...</td>\n",
       "      <td>...</td>\n",
       "      <td>...</td>\n",
       "    </tr>\n",
       "    <tr>\n",
       "      <th>fx_MAR08663</th>\n",
       "      <td>0.000000</td>\n",
       "      <td>0.000000</td>\n",
       "      <td>0.000000</td>\n",
       "      <td>0.000000</td>\n",
       "      <td>0.000000</td>\n",
       "      <td>0.000000</td>\n",
       "      <td>0.000000</td>\n",
       "      <td>NaN</td>\n",
       "    </tr>\n",
       "    <tr>\n",
       "      <th>fx_MAR08667</th>\n",
       "      <td>0.000000</td>\n",
       "      <td>0.000000</td>\n",
       "      <td>0.000000</td>\n",
       "      <td>0.000000</td>\n",
       "      <td>0.000000</td>\n",
       "      <td>0.000000</td>\n",
       "      <td>0.000000</td>\n",
       "      <td>NaN</td>\n",
       "    </tr>\n",
       "    <tr>\n",
       "      <th>fx_MAR08668</th>\n",
       "      <td>0.000000</td>\n",
       "      <td>0.000000</td>\n",
       "      <td>0.000000</td>\n",
       "      <td>0.000000</td>\n",
       "      <td>0.000000</td>\n",
       "      <td>0.000000</td>\n",
       "      <td>0.000000</td>\n",
       "      <td>NaN</td>\n",
       "    </tr>\n",
       "    <tr>\n",
       "      <th>fx_MAR10393</th>\n",
       "      <td>0.000000</td>\n",
       "      <td>0.000000</td>\n",
       "      <td>0.000000</td>\n",
       "      <td>0.000000</td>\n",
       "      <td>0.000000</td>\n",
       "      <td>0.000000</td>\n",
       "      <td>0.000000</td>\n",
       "      <td>NaN</td>\n",
       "    </tr>\n",
       "    <tr>\n",
       "      <th>fx_MAR10439</th>\n",
       "      <td>0.000000</td>\n",
       "      <td>0.000000</td>\n",
       "      <td>0.000000</td>\n",
       "      <td>0.000000</td>\n",
       "      <td>0.000000</td>\n",
       "      <td>0.000000</td>\n",
       "      <td>0.000000</td>\n",
       "      <td>NaN</td>\n",
       "    </tr>\n",
       "  </tbody>\n",
       "</table>\n",
       "<p>27726 rows × 8 columns</p>\n",
       "</div>"
      ],
      "text/plain": [
       "                        R004A      R006A      R016A      R027A      R029A  \\\n",
       "ENSG00000000003.13   3.123990   3.226544   1.436905   3.114609   4.138414   \n",
       "ENSG00000000419.11   8.073325   8.130476   8.479747   8.947290   8.555821   \n",
       "ENSG00000000938.11  13.057616  11.606263  12.910896  12.322467  11.013366   \n",
       "ENSG00000001036.12   8.288574   7.659660   8.349873   8.144359   7.761181   \n",
       "ENSG00000001084.9   10.294006  11.110773  10.832609   9.986709   9.935547   \n",
       "...                       ...        ...        ...        ...        ...   \n",
       "fx_MAR08663          0.000000   0.000000   0.000000   0.000000   0.000000   \n",
       "fx_MAR08667          0.000000   0.000000   0.000000   0.000000   0.000000   \n",
       "fx_MAR08668          0.000000   0.000000   0.000000   0.000000   0.000000   \n",
       "fx_MAR10393          0.000000   0.000000   0.000000   0.000000   0.000000   \n",
       "fx_MAR10439          0.000000   0.000000   0.000000   0.000000   0.000000   \n",
       "\n",
       "                        R030A      R045A    R016A.1  \n",
       "ENSG00000000003.13   1.434475   0.000000   3.074362  \n",
       "ENSG00000000419.11   8.788016   7.534856   8.887550  \n",
       "ENSG00000000938.11  13.114201  12.902943  12.592707  \n",
       "ENSG00000001036.12   9.229777   7.979430   8.206781  \n",
       "ENSG00000001084.9   11.783068  11.633827  11.006478  \n",
       "...                       ...        ...        ...  \n",
       "fx_MAR08663          0.000000   0.000000        NaN  \n",
       "fx_MAR08667          0.000000   0.000000        NaN  \n",
       "fx_MAR08668          0.000000   0.000000        NaN  \n",
       "fx_MAR10393          0.000000   0.000000        NaN  \n",
       "fx_MAR10439          0.000000   0.000000        NaN  \n",
       "\n",
       "[27726 rows x 8 columns]"
      ]
     },
     "execution_count": 226,
     "metadata": {},
     "output_type": "execute_result"
    }
   ],
   "source": [
    "test_df"
   ]
  },
  {
   "cell_type": "code",
   "execution_count": 207,
   "metadata": {},
   "outputs": [],
   "source": [
    "test_X =clf.transform(test_df.fillna(0).values.T)"
   ]
  },
  {
   "cell_type": "code",
   "execution_count": 114,
   "metadata": {},
   "outputs": [],
   "source": [
    "features = tv_df.index"
   ]
  },
  {
   "cell_type": "code",
   "execution_count": 72,
   "metadata": {},
   "outputs": [
    {
     "data": {
      "text/plain": [
       "Pipeline(steps=[('standardscaler', StandardScaler()),\n",
       "                ('variancethreshold', VarianceThreshold()),\n",
       "                ('selectkbest', SelectKBest(k=10000))])"
      ]
     },
     "execution_count": 72,
     "metadata": {},
     "output_type": "execute_result"
    }
   ],
   "source": [
    "clf"
   ]
  },
  {
   "cell_type": "code",
   "execution_count": 115,
   "metadata": {},
   "outputs": [],
   "source": [
    "final_ftr = features[clf[\"variancethreshold\"].get_support()][clf[\"selectkbest\"].get_support()]"
   ]
  },
  {
   "cell_type": "code",
   "execution_count": 116,
   "metadata": {},
   "outputs": [
    {
     "data": {
      "text/plain": [
       "Index(['ENSG00000000938.11', 'ENSG00000002330.12', 'ENSG00000002834.16',\n",
       "       'ENSG00000002919.13', 'ENSG00000003056.6', 'ENSG00000003402.18',\n",
       "       'ENSG00000003756.15', 'ENSG00000004059.9', 'ENSG00000004399.11',\n",
       "       'ENSG00000004779.8',\n",
       "       ...\n",
       "       'fx_MAR11066', 'fx_MAR11174', 'fx_MAR11205', 'fx_MAR11316',\n",
       "       'fx_MAR11506', 'fx_MAR11507', 'fx_MAR11508', 'fx_MAR11953',\n",
       "       'fx_MAR11894', 'fx_MAR11895'],\n",
       "      dtype='object', length=4000)"
      ]
     },
     "execution_count": 116,
     "metadata": {},
     "output_type": "execute_result"
    }
   ],
   "source": [
    "final_ftr"
   ]
  },
  {
   "cell_type": "code",
   "execution_count": 123,
   "metadata": {},
   "outputs": [
    {
     "data": {
      "text/plain": [
       "3408"
      ]
     },
     "execution_count": 123,
     "metadata": {},
     "output_type": "execute_result"
    }
   ],
   "source": [
    "len(final_ftr[final_ftr.to_series().apply(lambda x: \"ENSG\" in x)])"
   ]
  },
  {
   "cell_type": "code",
   "execution_count": 122,
   "metadata": {},
   "outputs": [
    {
     "data": {
      "text/plain": [
       "21"
      ]
     },
     "execution_count": 122,
     "metadata": {},
     "output_type": "execute_result"
    }
   ],
   "source": [
    "len(final_ftr[final_ftr.to_series().apply(lambda x: \"General\" in x)])"
   ]
  },
  {
   "cell_type": "code",
   "execution_count": 121,
   "metadata": {},
   "outputs": [
    {
     "data": {
      "text/plain": [
       "491"
      ]
     },
     "execution_count": 121,
     "metadata": {},
     "output_type": "execute_result"
    }
   ],
   "source": [
    "len(final_ftr[final_ftr.to_series().apply(lambda x: \"rs\" in x)])"
   ]
  },
  {
   "cell_type": "code",
   "execution_count": 120,
   "metadata": {},
   "outputs": [
    {
     "data": {
      "text/plain": [
       "80"
      ]
     },
     "execution_count": 120,
     "metadata": {},
     "output_type": "execute_result"
    }
   ],
   "source": [
    "len(final_ftr[final_ftr.to_series().apply(lambda x: \"fx\" in x)])"
   ]
  },
  {
   "cell_type": "markdown",
   "metadata": {},
   "source": [
    "## Training ML models"
   ]
  },
  {
   "cell_type": "code",
   "execution_count": null,
   "metadata": {},
   "outputs": [],
   "source": [
    "params = {'C': [0.1, 1, 10, 100], \n",
    "          #\"l1_ratio\": np.arange(0.1, 1, 0.2),\n",
    "          \"class_weight\": [None, \"balanced\"]}\n",
    "logic_scores = GS_training(nX, y, params, LogisticRegression, cv=7,\n",
    "                           random_state=0, penalty=\"l2\", max_iter=2000)"
   ]
  },
  {
   "cell_type": "code",
   "execution_count": 230,
   "metadata": {},
   "outputs": [
    {
     "data": {
      "text/plain": [
       "0.7959183673469388"
      ]
     },
     "execution_count": 230,
     "metadata": {},
     "output_type": "execute_result"
    }
   ],
   "source": [
    "logic_scores.best_score_"
   ]
  },
  {
   "cell_type": "code",
   "execution_count": 231,
   "metadata": {},
   "outputs": [
    {
     "data": {
      "text/plain": [
       "array(['G4', 'G4', 'G4', 'G4', 'G4', 'G4', 'G4', 'G4'], dtype='<U2')"
      ]
     },
     "execution_count": 231,
     "metadata": {},
     "output_type": "execute_result"
    }
   ],
   "source": [
    "logic_es = logic_scores.best_estimator_.fit(nX, y)\n",
    "logic_es.predict(test_X)"
   ]
  },
  {
   "cell_type": "code",
   "execution_count": null,
   "metadata": {},
   "outputs": [],
   "source": [
    "params = {'C': [0.01, 0.1, 1, 10, 50, 100, 1000], \n",
    "          'degree': np.arange(1,5,1), \n",
    "          'kernel': ('poly', 'rbf'), \"gamma\": [1e-2, 0.001, 0.005, 0.0001]}\n",
    "\n",
    "svm_scores = GS_training(nX, y, params, SVC, gamma=\"auto\", cv=7)"
   ]
  },
  {
   "cell_type": "code",
   "execution_count": 234,
   "metadata": {},
   "outputs": [
    {
     "data": {
      "text/plain": [
       "0.7755102040816325"
      ]
     },
     "execution_count": 234,
     "metadata": {},
     "output_type": "execute_result"
    }
   ],
   "source": [
    "svm_scores.best_score_ # 0.7933333333333333"
   ]
  },
  {
   "cell_type": "code",
   "execution_count": 235,
   "metadata": {},
   "outputs": [
    {
     "data": {
      "text/plain": [
       "array(['G1', 'G4', 'G4', 'G4', 'G4', 'G4', 'G4', 'G4'], dtype='<U2')"
      ]
     },
     "execution_count": 235,
     "metadata": {},
     "output_type": "execute_result"
    }
   ],
   "source": [
    "svm_es = svm_scores.best_estimator_.fit(nX, y)\n",
    "svm_es.predict(test_X)"
   ]
  },
  {
   "cell_type": "code",
   "execution_count": null,
   "metadata": {},
   "outputs": [],
   "source": [
    "params = {\"learning_rate\": [0.01, 0.03, 0.1, 0.3],\n",
    "          \"n_estimators\": [100, 1000, 2000],\n",
    "          \"subsample\": [1],\n",
    "          \"min_samples_split\": [2, 5, 10, 15, 20],\n",
    "          \"max_features\": (\"sqrt\", \"log2\"),\n",
    "          \"min_samples_leaf\": [8], \n",
    "         }\n",
    "\n",
    "params = {\n",
    "    \"loss\":[\"deviance\"],\n",
    "    \"learning_rate\": [0.01, 0.025, 0.05, 0.075, 0.1, 0.15, 0.2],\n",
    "    \"min_samples_split\": np.linspace(0.1, 0.5, 12),\n",
    "    \"min_samples_leaf\": np.linspace(0.1, 0.5, 12),\n",
    "    \"max_depth\":[3,5,8],\n",
    "    \"max_features\":[\"log2\",\"sqrt\"],\n",
    "    \"criterion\": [\"friedman_mse\",  \"mae\"],\n",
    "    \"subsample\":[0.5, 0.618, 0.8, 0.85, 0.9, 0.95, 1.0],\n",
    "    \"n_estimators\":[10]\n",
    "    }\n",
    "\n",
    "gbm_scores = GS_training(nX, y, params, GradientBoostingClassifier)"
   ]
  },
  {
   "cell_type": "code",
   "execution_count": 188,
   "metadata": {},
   "outputs": [
    {
     "data": {
      "text/plain": [
       "0.8377777777777776"
      ]
     },
     "execution_count": 188,
     "metadata": {},
     "output_type": "execute_result"
    }
   ],
   "source": [
    "gbm_scores.best_score_"
   ]
  },
  {
   "cell_type": "code",
   "execution_count": 189,
   "metadata": {},
   "outputs": [
    {
     "data": {
      "text/plain": [
       "GradientBoostingClassifier(learning_rate=0.2, max_depth=5, max_features='sqrt',\n",
       "                           min_samples_leaf=0.31818181818181823,\n",
       "                           min_samples_split=0.24545454545454548,\n",
       "                           n_estimators=10)"
      ]
     },
     "execution_count": 189,
     "metadata": {},
     "output_type": "execute_result"
    }
   ],
   "source": [
    "gbm_scores.best_estimator_"
   ]
  },
  {
   "cell_type": "code",
   "execution_count": 236,
   "metadata": {},
   "outputs": [
    {
     "data": {
      "text/plain": [
       "array(['G1', 'G4', 'G4', 'G4', 'G4', 'G4', 'G4', 'G4'], dtype='<U2')"
      ]
     },
     "execution_count": 236,
     "metadata": {},
     "output_type": "execute_result"
    }
   ],
   "source": [
    "gbm_es = gbm_scores.best_estimator_.fit(nX, y)\n",
    "gbm_es.predict(test_X)"
   ]
  },
  {
   "cell_type": "code",
   "execution_count": null,
   "metadata": {},
   "outputs": [],
   "source": [
    "params = {\"num_leaves\": [4, 8],\n",
    "          \"max_depth\": [2, 4, 6, 10],\n",
    "          \"n_estimators\": [5, 20, 50, 100],\n",
    "          \"class_weight\": [\"balanced\"],\n",
    "          \"min_child_samples\": [10],\n",
    "          #\"min_split_gain\": [0.0,0.3,0.8,1.0],\n",
    "          \"colsample_bytree\":  [0.4],\n",
    "          \"reg_alpha\": np.arange(0.2, 0.6, 0.4),\n",
    "          # \"reg_beta\": [0, 0.3, 0.6],\n",
    "          \"learning_rate\": [0.1, 0.05, 0.01],\n",
    "          #\"subsample_freq\": [0, 0.3],\n",
    "          'feature_fraction': [0.2, 0.8, 1.0],\n",
    "          'bagging_fraction': [0.2, 0.8, 1.0],\n",
    "          'bagging_freq': range(0, 81, 40),\n",
    "          #\"subsample\": [0.8, 1],\n",
    "          \"subsample_for_bin\": [10, 500, 100]\n",
    "         }\n",
    "lgb_scores = GS_training(nX, y, params, lgb.LGBMClassifier)"
   ]
  },
  {
   "cell_type": "code",
   "execution_count": 255,
   "metadata": {},
   "outputs": [
    {
     "data": {
      "text/plain": [
       "LGBMClassifier(bagging_fraction=0.8, bagging_freq=0, class_weight='balanced',\n",
       "               colsample_bytree=0.4, feature_fraction=0.8, max_depth=4,\n",
       "               min_child_samples=10, n_estimators=30, num_leaves=8,\n",
       "               reg_alpha=0.2, subsample_for_bin=500)"
      ]
     },
     "execution_count": 255,
     "metadata": {},
     "output_type": "execute_result"
    }
   ],
   "source": [
    "lgb_scores.best_estimator_"
   ]
  },
  {
   "cell_type": "code",
   "execution_count": null,
   "metadata": {},
   "outputs": [],
   "source": [
    "lgb_scores.best_score_\n"
   ]
  },
  {
   "cell_type": "code",
   "execution_count": 254,
   "metadata": {},
   "outputs": [
    {
     "data": {
      "text/plain": [
       "array(['G1', 'G4', 'G4', 'G2', 'G4', 'G4', 'G4', 'G4'], dtype='<U2')"
      ]
     },
     "execution_count": 254,
     "metadata": {},
     "output_type": "execute_result"
    }
   ],
   "source": [
    "lgb_es = lgb_scores.best_estimator_.fit(nX, y)\n",
    "lgb_es.predict(test_X)"
   ]
  },
  {
   "cell_type": "code",
   "execution_count": null,
   "metadata": {},
   "outputs": [],
   "source": [
    "params = {\"min_weight_fraction_leaf\": np.arange(0.01, 0.4, 0.1)}\n",
    "\n",
    "params = {\n",
    "    'max_depth': [2, 3, 5, 10, 20],\n",
    "    'min_samples_leaf': [i for i in range(1, 15, 2)], \n",
    "    \"max_features\": (\"sqrt\", \"log2\"),\n",
    "    'criterion': [\"gini\", \"entropy\"],\n",
    "    \"min_samples_split\": [i for i in range(2, 8, 1)], \n",
    "    \n",
    "}\n",
    "\n",
    "dt_scores = GS_training(nX, y, params, DecisionTreeClassifier, cv=7)"
   ]
  },
  {
   "cell_type": "code",
   "execution_count": 247,
   "metadata": {},
   "outputs": [
    {
     "data": {
      "text/plain": [
       "0.7346938775510204"
      ]
     },
     "execution_count": 247,
     "metadata": {},
     "output_type": "execute_result"
    }
   ],
   "source": [
    "dt_scores.best_score_ # 0.6266666666666667"
   ]
  },
  {
   "cell_type": "code",
   "execution_count": 250,
   "metadata": {},
   "outputs": [
    {
     "data": {
      "text/plain": [
       "array(['G4', 'G4', 'G4', 'G2', 'G4', 'G4', 'G4', 'G2'], dtype='<U2')"
      ]
     },
     "execution_count": 250,
     "metadata": {},
     "output_type": "execute_result"
    }
   ],
   "source": [
    "dt_es = dt_scores.best_estimator_.fit(nX, y)\n",
    "dt_es.predict(test_X)"
   ]
  },
  {
   "cell_type": "code",
   "execution_count": null,
   "metadata": {},
   "outputs": [],
   "source": [
    "params = {\"min_samples_leaf\": [i for i in range(2, 16, 4)], \n",
    "          \"min_samples_split\": [i for i in range(2, 5, 1)], \n",
    "          \"max_features\": (\"auto\", \"sqrt\", \"log2\"),\n",
    "         \"min_weight_fraction_leaf\": np.arange(0.05, 0.5, 0.1)}\n",
    "params = {'n_estimators': [5, 20, 50, 100], \n",
    " 'max_features': ['auto', 'sqrt'], \n",
    " 'max_depth': [10, 20, 30, 40], \n",
    " 'min_samples_split': [2, 6, 10], \n",
    " 'min_samples_leaf': [1, 3, 4], \n",
    " 'bootstrap': [True, False]}\n",
    "rf_scores = GS_training(nX, y, params, RandomForestClassifier, cv=7)"
   ]
  },
  {
   "cell_type": "code",
   "execution_count": 238,
   "metadata": {},
   "outputs": [
    {
     "data": {
      "text/plain": [
       "0.7959183673469388"
      ]
     },
     "execution_count": 238,
     "metadata": {},
     "output_type": "execute_result"
    }
   ],
   "source": [
    "rf_scores.best_score_ # 0.7"
   ]
  },
  {
   "cell_type": "code",
   "execution_count": 241,
   "metadata": {},
   "outputs": [
    {
     "data": {
      "text/plain": [
       "array(['G1', 'G4', 'G4', 'G4', 'G4', 'G4', 'G4', 'G2'], dtype='<U2')"
      ]
     },
     "execution_count": 241,
     "metadata": {},
     "output_type": "execute_result"
    }
   ],
   "source": [
    "rf_es = rf_scores.best_estimator_.fit(nX, y)\n",
    "rf_es.predict(test_X)"
   ]
  },
  {
   "cell_type": "code",
   "execution_count": null,
   "metadata": {},
   "outputs": [],
   "source": [
    "params = {\n",
    "    'n_estimators': [2, 3, 4, 5, 6, 7, 8, 9, 10, 11, 12, 20],\n",
    "    'learning_rate': [(0.97 + x / 100) for x in range(0, 8)],\n",
    "    'algorithm': ['SAMME', 'SAMME.R']\n",
    "}\n",
    "\n",
    "ada_scores = GS_training(nX, y, params, AdaBoostClassifier)"
   ]
  },
  {
   "cell_type": "code",
   "execution_count": 249,
   "metadata": {},
   "outputs": [
    {
     "data": {
      "text/plain": [
       "0.6955555555555556"
      ]
     },
     "execution_count": 249,
     "metadata": {},
     "output_type": "execute_result"
    }
   ],
   "source": [
    "ada_scores.best_score_"
   ]
  },
  {
   "cell_type": "code",
   "execution_count": 251,
   "metadata": {},
   "outputs": [
    {
     "data": {
      "text/plain": [
       "array(['G1', 'G4', 'G4', 'G4', 'G4', 'G4', 'G4', 'G4'], dtype='<U2')"
      ]
     },
     "execution_count": 251,
     "metadata": {},
     "output_type": "execute_result"
    }
   ],
   "source": [
    "ada_es = ada_scores.best_estimator_.fit(nX, y)\n",
    "ada_es.predict(test_X)"
   ]
  },
  {
   "cell_type": "code",
   "execution_count": null,
   "metadata": {},
   "outputs": [],
   "source": []
  }
 ],
 "metadata": {
  "kernelspec": {
   "display_name": "Python 3.7.3 64-bit ('CBM': conda)",
   "language": "python",
   "name": "python37364bitcbmconda504cb86c464b47279c9f8d55660e0628"
  },
  "language_info": {
   "codemirror_mode": {
    "name": "ipython",
    "version": 3
   },
   "file_extension": ".py",
   "mimetype": "text/x-python",
   "name": "python",
   "nbconvert_exporter": "python",
   "pygments_lexer": "ipython3",
   "version": "3.7.3"
  }
 },
 "nbformat": 4,
 "nbformat_minor": 4
}
